{
 "cells": [
  {
   "cell_type": "markdown",
   "metadata": {},
   "source": [
    "# 1,2,3 Classification\n",
    "In this tutorial, I'll go throgh some implementations details you maybe use in your final project:\n",
    "1. how to load the dataset\n",
    "2. how to use pre-processing\n",
    "3. how to train the model\n",
    "4. how to save and load your model weights\n",
    "5. how to evaluate the model\n",
    "6. how to make predictions on testing images\n",
    "7. [Extra.] how to use 1-D convolution\n",
    "8. [Extra.] how to create spectrogram"
   ]
  },
  {
   "cell_type": "markdown",
   "metadata": {},
   "source": [
    "# Install Library"
   ]
  },
  {
   "cell_type": "code",
   "execution_count": 1,
   "metadata": {},
   "outputs": [
    {
     "name": "stdout",
     "output_type": "stream",
     "text": [
      "Requirement already satisfied: torch in /Users/timmy/Downloads/Bearing Vibration/venv/lib/python3.8/site-packages (1.7.1)\n",
      "Requirement already satisfied: typing-extensions in /Users/timmy/Downloads/Bearing Vibration/venv/lib/python3.8/site-packages (from torch) (3.7.4.3)\n",
      "Requirement already satisfied: numpy in /Users/timmy/Downloads/Bearing Vibration/venv/lib/python3.8/site-packages (from torch) (1.19.4)\n",
      "\u001b[33mWARNING: You are using pip version 20.0.2; however, version 20.3.3 is available.\n",
      "You should consider upgrading via the '/Users/timmy/Downloads/Bearing Vibration/venv/bin/python -m pip install --upgrade pip' command.\u001b[0m\n",
      "Requirement already satisfied: torchvision in /Users/timmy/Downloads/Bearing Vibration/venv/lib/python3.8/site-packages (0.8.2)\n",
      "Requirement already satisfied: numpy in /Users/timmy/Downloads/Bearing Vibration/venv/lib/python3.8/site-packages (from torchvision) (1.19.4)\n",
      "Requirement already satisfied: torch==1.7.1 in /Users/timmy/Downloads/Bearing Vibration/venv/lib/python3.8/site-packages (from torchvision) (1.7.1)\n",
      "Requirement already satisfied: pillow>=4.1.1 in /Users/timmy/Downloads/Bearing Vibration/venv/lib/python3.8/site-packages (from torchvision) (8.0.1)\n",
      "Requirement already satisfied: typing-extensions in /Users/timmy/Downloads/Bearing Vibration/venv/lib/python3.8/site-packages (from torch==1.7.1->torchvision) (3.7.4.3)\n",
      "\u001b[33mWARNING: You are using pip version 20.0.2; however, version 20.3.3 is available.\n",
      "You should consider upgrading via the '/Users/timmy/Downloads/Bearing Vibration/venv/bin/python -m pip install --upgrade pip' command.\u001b[0m\n",
      "Requirement already satisfied: numpy in /Users/timmy/Downloads/Bearing Vibration/venv/lib/python3.8/site-packages (1.19.4)\n",
      "\u001b[33mWARNING: You are using pip version 20.0.2; however, version 20.3.3 is available.\n",
      "You should consider upgrading via the '/Users/timmy/Downloads/Bearing Vibration/venv/bin/python -m pip install --upgrade pip' command.\u001b[0m\n",
      "Requirement already satisfied: matplotlib in /Users/timmy/Downloads/Bearing Vibration/venv/lib/python3.8/site-packages (3.3.3)\n",
      "Requirement already satisfied: python-dateutil>=2.1 in /Users/timmy/Downloads/Bearing Vibration/venv/lib/python3.8/site-packages (from matplotlib) (2.8.1)\n",
      "Requirement already satisfied: pillow>=6.2.0 in /Users/timmy/Downloads/Bearing Vibration/venv/lib/python3.8/site-packages (from matplotlib) (8.0.1)\n",
      "Requirement already satisfied: cycler>=0.10 in /Users/timmy/Downloads/Bearing Vibration/venv/lib/python3.8/site-packages (from matplotlib) (0.10.0)\n",
      "Requirement already satisfied: kiwisolver>=1.0.1 in /Users/timmy/Downloads/Bearing Vibration/venv/lib/python3.8/site-packages (from matplotlib) (1.3.1)\n",
      "Requirement already satisfied: pyparsing!=2.0.4,!=2.1.2,!=2.1.6,>=2.0.3 in /Users/timmy/Downloads/Bearing Vibration/venv/lib/python3.8/site-packages (from matplotlib) (2.4.7)\n",
      "Requirement already satisfied: numpy>=1.15 in /Users/timmy/Downloads/Bearing Vibration/venv/lib/python3.8/site-packages (from matplotlib) (1.19.4)\n",
      "Requirement already satisfied: six>=1.5 in /Users/timmy/Downloads/Bearing Vibration/venv/lib/python3.8/site-packages (from python-dateutil>=2.1->matplotlib) (1.15.0)\n",
      "\u001b[33mWARNING: You are using pip version 20.0.2; however, version 20.3.3 is available.\n",
      "You should consider upgrading via the '/Users/timmy/Downloads/Bearing Vibration/venv/bin/python -m pip install --upgrade pip' command.\u001b[0m\n",
      "Requirement already satisfied: librosa in /Users/timmy/Downloads/Bearing Vibration/venv/lib/python3.8/site-packages (0.8.0)\n",
      "Requirement already satisfied: soundfile>=0.9.0 in /Users/timmy/Downloads/Bearing Vibration/venv/lib/python3.8/site-packages (from librosa) (0.10.3.post1)\n",
      "Requirement already satisfied: numba>=0.43.0 in /Users/timmy/Downloads/Bearing Vibration/venv/lib/python3.8/site-packages (from librosa) (0.52.0)\n",
      "Requirement already satisfied: numpy>=1.15.0 in /Users/timmy/Downloads/Bearing Vibration/venv/lib/python3.8/site-packages (from librosa) (1.19.4)\n",
      "Requirement already satisfied: scipy>=1.0.0 in /Users/timmy/Downloads/Bearing Vibration/venv/lib/python3.8/site-packages (from librosa) (1.5.4)\n",
      "Requirement already satisfied: scikit-learn!=0.19.0,>=0.14.0 in /Users/timmy/Downloads/Bearing Vibration/venv/lib/python3.8/site-packages (from librosa) (0.23.2)\n",
      "Requirement already satisfied: audioread>=2.0.0 in /Users/timmy/Downloads/Bearing Vibration/venv/lib/python3.8/site-packages (from librosa) (2.1.9)\n",
      "Requirement already satisfied: decorator>=3.0.0 in /Users/timmy/Downloads/Bearing Vibration/venv/lib/python3.8/site-packages (from librosa) (4.4.2)\n",
      "Requirement already satisfied: pooch>=1.0 in /Users/timmy/Downloads/Bearing Vibration/venv/lib/python3.8/site-packages (from librosa) (1.3.0)\n",
      "Requirement already satisfied: joblib>=0.14 in /Users/timmy/Downloads/Bearing Vibration/venv/lib/python3.8/site-packages (from librosa) (0.17.0)\n",
      "Requirement already satisfied: resampy>=0.2.2 in /Users/timmy/Downloads/Bearing Vibration/venv/lib/python3.8/site-packages (from librosa) (0.2.2)\n",
      "Requirement already satisfied: cffi>=1.0 in /Users/timmy/Downloads/Bearing Vibration/venv/lib/python3.8/site-packages (from soundfile>=0.9.0->librosa) (1.14.4)\n",
      "Requirement already satisfied: setuptools in /Users/timmy/Downloads/Bearing Vibration/venv/lib/python3.8/site-packages (from numba>=0.43.0->librosa) (45.2.0)\n",
      "Requirement already satisfied: llvmlite<0.36,>=0.35.0 in /Users/timmy/Downloads/Bearing Vibration/venv/lib/python3.8/site-packages (from numba>=0.43.0->librosa) (0.35.0)\n",
      "Requirement already satisfied: threadpoolctl>=2.0.0 in /Users/timmy/Downloads/Bearing Vibration/venv/lib/python3.8/site-packages (from scikit-learn!=0.19.0,>=0.14.0->librosa) (2.1.0)\n",
      "Requirement already satisfied: appdirs in /Users/timmy/Downloads/Bearing Vibration/venv/lib/python3.8/site-packages (from pooch>=1.0->librosa) (1.4.4)\n",
      "Requirement already satisfied: requests in /Users/timmy/Downloads/Bearing Vibration/venv/lib/python3.8/site-packages (from pooch>=1.0->librosa) (2.25.1)\n",
      "Requirement already satisfied: packaging in /Users/timmy/Downloads/Bearing Vibration/venv/lib/python3.8/site-packages (from pooch>=1.0->librosa) (20.7)\n",
      "Requirement already satisfied: six>=1.3 in /Users/timmy/Downloads/Bearing Vibration/venv/lib/python3.8/site-packages (from resampy>=0.2.2->librosa) (1.15.0)\n",
      "Requirement already satisfied: pycparser in /Users/timmy/Downloads/Bearing Vibration/venv/lib/python3.8/site-packages (from cffi>=1.0->soundfile>=0.9.0->librosa) (2.20)\n",
      "Requirement already satisfied: certifi>=2017.4.17 in /Users/timmy/Downloads/Bearing Vibration/venv/lib/python3.8/site-packages (from requests->pooch>=1.0->librosa) (2020.12.5)\n",
      "Requirement already satisfied: urllib3<1.27,>=1.21.1 in /Users/timmy/Downloads/Bearing Vibration/venv/lib/python3.8/site-packages (from requests->pooch>=1.0->librosa) (1.26.2)\n",
      "Requirement already satisfied: idna<3,>=2.5 in /Users/timmy/Downloads/Bearing Vibration/venv/lib/python3.8/site-packages (from requests->pooch>=1.0->librosa) (2.10)\n",
      "Requirement already satisfied: chardet<5,>=3.0.2 in /Users/timmy/Downloads/Bearing Vibration/venv/lib/python3.8/site-packages (from requests->pooch>=1.0->librosa) (4.0.0)\n",
      "Requirement already satisfied: pyparsing>=2.0.2 in /Users/timmy/Downloads/Bearing Vibration/venv/lib/python3.8/site-packages (from packaging->pooch>=1.0->librosa) (2.4.7)\n",
      "\u001b[33mWARNING: You are using pip version 20.0.2; however, version 20.3.3 is available.\n",
      "You should consider upgrading via the '/Users/timmy/Downloads/Bearing Vibration/venv/bin/python -m pip install --upgrade pip' command.\u001b[0m\n",
      "Requirement already satisfied: scipy in /Users/timmy/Downloads/Bearing Vibration/venv/lib/python3.8/site-packages (1.5.4)\n",
      "Requirement already satisfied: numpy>=1.14.5 in /Users/timmy/Downloads/Bearing Vibration/venv/lib/python3.8/site-packages (from scipy) (1.19.4)\n",
      "\u001b[33mWARNING: You are using pip version 20.0.2; however, version 20.3.3 is available.\n",
      "You should consider upgrading via the '/Users/timmy/Downloads/Bearing Vibration/venv/bin/python -m pip install --upgrade pip' command.\u001b[0m\n"
     ]
    }
   ],
   "source": [
    "!pip install torch\n",
    "!pip install torchvision\n",
    "!pip install numpy\n",
    "!pip install matplotlib\n",
    "!pip install librosa\n",
    "!pip install scipy"
   ]
  },
  {
   "cell_type": "markdown",
   "metadata": {},
   "source": [
    "# Import Library"
   ]
  },
  {
   "cell_type": "code",
   "execution_count": 2,
   "metadata": {},
   "outputs": [
    {
     "name": "stdout",
     "output_type": "stream",
     "text": [
      "pytorch version: 1.7.1\n"
     ]
    }
   ],
   "source": [
    "import torch # for importing Pytorch\n",
    "import torch.optim as optim # for optimizer setup\n",
    "import torch.nn as nn # for buildup Pytorch's model architecture\n",
    "import torch.nn.functional as F # for applying useful functions like activation\n",
    "from torch.utils.data import Dataset, DataLoader # for data I/O\n",
    "from torchvision.transforms import ToTensor # for input preprocessing\n",
    "import numpy as np # for N-dim array operations\n",
    "import os # for fetching folder structure\n",
    "from PIL import Image # for image I/O\n",
    "from glob import glob # for fetching folder structure\n",
    "import matplotlib.pyplot as plt # for visualizing your result\n",
    "from time import time # for elapsed time measurement\n",
    "print(\"pytorch version:\",torch.__version__)"
   ]
  },
  {
   "cell_type": "code",
   "execution_count": 3,
   "metadata": {},
   "outputs": [],
   "source": [
    "![ -e weight.pth ] && rm weight.pth # remove a previously trained checkpoint if it already exist"
   ]
  },
  {
   "cell_type": "markdown",
   "metadata": {},
   "source": [
    "# Dataset structure"
   ]
  },
  {
   "cell_type": "code",
   "execution_count": 4,
   "metadata": {},
   "outputs": [
    {
     "name": "stdout",
     "output_type": "stream",
     "text": [
      "The tutorial dataset folder structure is arranged as below:\n",
      ".\n",
      "├── trainlabel.npy\n",
      "├── test\n",
      "    ├── 1384.jpg\n",
      "    ├── 1395.jpg\n",
      "    ├── 1118.jpg\n",
      "    ├── 306.jpg\n",
      "    ├── 1282.jpg\n",
      "    ├── 357.jpg\n",
      "├── validationdata.npy\n",
      "├── validationlabel.npy\n",
      "├── Tutorial.ipynb\n",
      "├── traindata.npy\n"
     ]
    }
   ],
   "source": [
    "# set the dataset root folder\n",
    "dataset = \".\" # set current folder\n",
    "print(\"The tutorial dataset folder structure is arranged as below:\")\n",
    "print(dataset)\n",
    "for name in os.listdir(dataset):\n",
    "    if name in [\".DS_Store\",\".ipynb_checkpoints\"]: continue\n",
    "    print(\"├──\",name)\n",
    "    path = os.path.join(dataset, name)\n",
    "    if os.path.isdir(path):\n",
    "        for item in os.listdir(path):\n",
    "            print(\"    ├──\",item)"
   ]
  },
  {
   "cell_type": "markdown",
   "metadata": {},
   "source": [
    "# Data loading and preprocessing\n",
    "In order to train the model with data, the first step is to read the data from matrix files, database etc. The below is just an example."
   ]
  },
  {
   "cell_type": "code",
   "execution_count": 5,
   "metadata": {},
   "outputs": [
    {
     "name": "stdout",
     "output_type": "stream",
     "text": [
      "traindata (1500, 32, 32) uint8\n",
      "trainlabel (1500,) int8\n",
      "valdata (30, 32, 32) uint8\n",
      "vallabel (30,) int8\n"
     ]
    }
   ],
   "source": [
    "traindata, trainlabel = np.load(os.path.join(dataset,\"traindata.npy\")), np.load(os.path.join(dataset,\"trainlabel.npy\"))\n",
    "print(\"traindata\",traindata.shape,traindata.dtype)\n",
    "print(\"trainlabel\",trainlabel.shape,trainlabel.dtype)\n",
    "valdata, vallabel = np.load(os.path.join(dataset,'validationdata.npy')), np.load(os.path.join(dataset,\"validationlabel.npy\"))\n",
    "print(\"valdata\",valdata.shape,valdata.dtype)\n",
    "print(\"vallabel\",vallabel.shape,vallabel.dtype)"
   ]
  },
  {
   "cell_type": "markdown",
   "metadata": {},
   "source": [
    "# Before the start of processing, we assume the class label to class name mapping as below:\n",
    "\n",
    "<table>\n",
    "    <tr><td>class label</td><td>class name</td>\n",
    "    <tr><td>0</td><td>one</td>\n",
    "    <tr><td>1</td><td>two</td>\n",
    "    <tr><td>2</td><td>three</td>\n",
    "</table>"
   ]
  },
  {
   "cell_type": "code",
   "execution_count": 6,
   "metadata": {},
   "outputs": [
    {
     "data": {
      "image/png": "[encoded data removed]",
      "text/plain": [
       "<Figure size 432x288 with 1 Axes>"
      ]
     },
     "metadata": {
      "needs_background": "light"
     },
     "output_type": "display_data"
    }
   ],
   "source": [
    "label_to_name = {\n",
    "    0 : \"one\",\n",
    "    1 : \"two\",\n",
    "    2 : \"three\",\n",
    "}\n",
    "n_th = 3\n",
    "img = traindata[n_th]\n",
    "class_name = label_to_name[trainlabel[n_th]]\n",
    "plt.imshow(img,cmap='gray')\n",
    "plt.title(class_name)\n",
    "plt.show()"
   ]
  },
  {
   "cell_type": "markdown",
   "metadata": {},
   "source": [
    "# Customize your dataset"
   ]
  },
  {
   "cell_type": "code",
   "execution_count": 7,
   "metadata": {},
   "outputs": [],
   "source": [
    "# customize your dataset\n",
    "class MyDataset(Dataset):\n",
    "    # To learn more, please see https://pytorch.org/tutorials/beginner/data_loading_tutorial.html\n",
    "    def __init__(self, data, label, label_to_name, transform):\n",
    "        self.sample_list = data # set input\n",
    "        self.label_list = torch.from_numpy(label.astype(np.int64)) # set output (ground truth)\n",
    "        self.transform = transform # set the preprocessing pipeline\n",
    "\n",
    "    def __len__(self):\n",
    "        return len(self.sample_list)# return the size of the dataset.\n",
    "\n",
    "    def __getitem__(self, idx):\n",
    "        sample = self.sample_list[idx] # fetch a single grayscale image\n",
    "        sample = self.transform(sample)# preprocess\n",
    "        label = self.label_list[idx] # fetch the corresponding label\n",
    "        return sample, label# get the i-th sample and its corresponding label\n",
    "# customize your preprocessing\n",
    "mytransforms = ToTensor() # convert a matrix in range [0,255] to a FloatTensor in range [0.0,1.0]\n",
    "# initialize training set and its corresponding loader\n",
    "trainset = MyDataset(traindata,trainlabel,label_to_name, transform=mytransforms)\n",
    "trainloader = DataLoader(trainset,batch_size=64,shuffle=True)\n",
    "# initialize validation set and its corresponding loader\n",
    "valset = MyDataset(valdata,vallabel,label_to_name,transform=mytransforms)\n",
    "valloader = DataLoader(valset,batch_size=64,shuffle=True)"
   ]
  },
  {
   "cell_type": "markdown",
   "metadata": {},
   "source": [
    "# Build neural network: LeNet\n",
    "About model details, please see the homework slide."
   ]
  },
  {
   "cell_type": "code",
   "execution_count": 8,
   "metadata": {},
   "outputs": [],
   "source": [
    "class Net(nn.Module):\n",
    "    def __init__(self,num_classes):\n",
    "        super(Net, self).__init__()\n",
    "        self.conv1 = nn.Conv2d(1, 6, 5)\n",
    "        self.conv2 = nn.Conv2d(6, 16, 5)\n",
    "        self.fc1   = nn.Linear(16*5*5, 120)\n",
    "        self.fc2   = nn.Linear(120, 84)\n",
    "        self.fc3   = nn.Linear(84, num_classes)\n",
    "\n",
    "    def forward(self, x):\n",
    "        out = F.relu(self.conv1(x))\n",
    "        out = F.max_pool2d(out, 2)\n",
    "        out = F.relu(self.conv2(out))\n",
    "        out = F.max_pool2d(out, 2)\n",
    "        out = out.view(out.size(0), -1)\n",
    "        out = F.relu(self.fc1(out))\n",
    "        out = F.relu(self.fc2(out))\n",
    "        out = self.fc3(out)\n",
    "        return out"
   ]
  },
  {
   "cell_type": "code",
   "execution_count": 9,
   "metadata": {},
   "outputs": [
    {
     "name": "stdout",
     "output_type": "stream",
     "text": [
      "use cpu now!\n"
     ]
    }
   ],
   "source": [
    "net = Net(num_classes=len(label_to_name)) # initialize your network\n",
    "# Whether to use GPU or not?\n",
    "device = 'cpu'\n",
    "if torch.cuda.is_available():\n",
    "    device = 'cuda'\n",
    "else: \n",
    "    device = 'cpu'\n",
    "print(\"use\",device,\"now!\")\n",
    "net.to(device)\n",
    "optimizer = optim.SGD(net.parameters(), lr=0.05) # setup your optimizer\n",
    "criterion = nn.CrossEntropyLoss() # setup your criterion"
   ]
  },
  {
   "cell_type": "markdown",
   "metadata": {},
   "source": [
    "# Train the model with the data"
   ]
  },
  {
   "cell_type": "code",
   "execution_count": 10,
   "metadata": {},
   "outputs": [
    {
     "name": "stdout",
     "output_type": "stream",
     "text": [
      "epoch 1, iter 1, training loss: 1.099\n",
      "epoch 1, iter 11, training loss: 1.094\n",
      "epoch 1, iter 21, training loss: 1.092\n",
      "epoch 2, iter 1, training loss: 1.090\n",
      "epoch 2, iter 11, training loss: 1.083\n",
      "epoch 2, iter 21, training loss: 1.066\n",
      "epoch 3, iter 1, training loss: 1.064\n",
      "epoch 3, iter 11, training loss: 1.036\n",
      "epoch 3, iter 21, training loss: 0.962\n",
      "epoch 4, iter 1, training loss: 0.908\n",
      "epoch 4, iter 11, training loss: 0.675\n",
      "epoch 4, iter 21, training loss: 0.514\n",
      "epoch 5, iter 1, training loss: 0.345\n",
      "epoch 5, iter 11, training loss: 0.389\n",
      "epoch 5, iter 21, training loss: 0.393\n",
      "epoch 6, iter 1, training loss: 0.164\n",
      "epoch 6, iter 11, training loss: 0.249\n",
      "epoch 6, iter 21, training loss: 0.281\n",
      "epoch 7, iter 1, training loss: 0.134\n",
      "epoch 7, iter 11, training loss: 0.130\n",
      "epoch 7, iter 21, training loss: 0.163\n",
      "epoch 8, iter 1, training loss: 0.166\n",
      "epoch 8, iter 11, training loss: 0.088\n",
      "epoch 8, iter 21, training loss: 0.252\n",
      "epoch 9, iter 1, training loss: 0.075\n",
      "epoch 9, iter 11, training loss: 0.107\n",
      "epoch 9, iter 21, training loss: 0.175\n",
      "epoch 10, iter 1, training loss: 0.127\n",
      "epoch 10, iter 11, training loss: 0.150\n",
      "epoch 10, iter 21, training loss: 0.171\n",
      "epoch 11, iter 1, training loss: 0.073\n",
      "epoch 11, iter 11, training loss: 0.120\n",
      "epoch 11, iter 21, training loss: 0.111\n",
      "epoch 12, iter 1, training loss: 0.107\n",
      "epoch 12, iter 11, training loss: 0.046\n",
      "epoch 12, iter 21, training loss: 0.051\n",
      "epoch 13, iter 1, training loss: 0.144\n",
      "epoch 13, iter 11, training loss: 0.086\n",
      "epoch 13, iter 21, training loss: 0.035\n",
      "epoch 14, iter 1, training loss: 0.055\n",
      "epoch 14, iter 11, training loss: 0.064\n",
      "epoch 14, iter 21, training loss: 0.070\n",
      "epoch 15, iter 1, training loss: 0.088\n",
      "epoch 15, iter 11, training loss: 0.199\n",
      "epoch 15, iter 21, training loss: 0.044\n",
      "Elapsed Time: 4.366560935974121 seconds\n"
     ]
    }
   ],
   "source": [
    "start = time()\n",
    "net.train()\n",
    "num_epoch = 15\n",
    "for epoch in range(num_epoch):\n",
    "    for batch_idx, (data, target) in enumerate(trainloader):\n",
    "        #print(data.shape,data.dtype,target.shape,target.dtype)\n",
    "        data = data.to(device)\n",
    "        target = target.to(device)\n",
    "        optimizer.zero_grad()\n",
    "        output = net(data)\n",
    "        loss = criterion(output, target)\n",
    "        loss.backward()\n",
    "        optimizer.step()\n",
    "        if batch_idx % 10 == 0:\n",
    "            print('epoch %d, iter %d, training loss: %.3f' %(epoch+1, batch_idx+1, loss.item()))\n",
    "print(\"Elapsed Time:\",time()-start,\"seconds\")"
   ]
  },
  {
   "cell_type": "markdown",
   "metadata": {},
   "source": [
    "# Save model"
   ]
  },
  {
   "cell_type": "code",
   "execution_count": 11,
   "metadata": {},
   "outputs": [],
   "source": [
    "def save_model(model,filename):\n",
    "    state = model.state_dict()\n",
    "    for key in state: state[key] = state[key].clone().cpu()\n",
    "    torch.save(state, filename)\n",
    "save_model(net,\"weight.pth\")"
   ]
  },
  {
   "cell_type": "markdown",
   "metadata": {},
   "source": [
    "# Load pretrained weights"
   ]
  },
  {
   "cell_type": "code",
   "execution_count": 12,
   "metadata": {},
   "outputs": [
    {
     "name": "stdout",
     "output_type": "stream",
     "text": [
      "use cpu now!\n"
     ]
    },
    {
     "data": {
      "text/plain": [
       "Net(\n",
       "  (conv1): Conv2d(1, 6, kernel_size=(5, 5), stride=(1, 1))\n",
       "  (conv2): Conv2d(6, 16, kernel_size=(5, 5), stride=(1, 1))\n",
       "  (fc1): Linear(in_features=400, out_features=120, bias=True)\n",
       "  (fc2): Linear(in_features=120, out_features=84, bias=True)\n",
       "  (fc3): Linear(in_features=84, out_features=3, bias=True)\n",
       ")"
      ]
     },
     "execution_count": 12,
     "metadata": {},
     "output_type": "execute_result"
    }
   ],
   "source": [
    "def load_model(model,filename):\n",
    "    model.load_state_dict(torch.load(filename))\n",
    "    return model\n",
    "net = Net(num_classes=len(label_to_name)) # initialize your network\n",
    "net = load_model(net,\"weight.pth\")\n",
    "# Whether to use GPU or not?\n",
    "device = 'cpu'\n",
    "if torch.cuda.is_available():\n",
    "    device = 'cuda'\n",
    "else: \n",
    "    device = 'cpu'\n",
    "print(\"use\",device,\"now!\")\n",
    "net.to(device)"
   ]
  },
  {
   "cell_type": "markdown",
   "metadata": {},
   "source": [
    "# Evaluate on validation data"
   ]
  },
  {
   "cell_type": "code",
   "execution_count": 13,
   "metadata": {},
   "outputs": [
    {
     "name": "stdout",
     "output_type": "stream",
     "text": [
      "Validation Classification Accuracy: 0.966667\n"
     ]
    }
   ],
   "source": [
    "net.eval()\n",
    "correct = 0\n",
    "with torch.no_grad():\n",
    "    for batch_idx, (data, target) in enumerate(valloader):\n",
    "        data = data.to(device)\n",
    "        target = target.to(device)\n",
    "        output = net(data)\n",
    "        pred = output.data.max(1, keepdim=True)[1]\n",
    "        correct += pred.eq(target.data.view_as(pred)).sum()\n",
    "    acc = correct.item() / len(valloader.dataset)\n",
    "print(\"Validation Classification Accuracy: %f\"%(acc))"
   ]
  },
  {
   "cell_type": "markdown",
   "metadata": {},
   "source": [
    "# Make predictions on testing images"
   ]
  },
  {
   "cell_type": "code",
   "execution_count": 14,
   "metadata": {},
   "outputs": [
    {
     "name": "stdout",
     "output_type": "stream",
     "text": [
      "predict ./test/1384.jpg => one\n",
      "predict ./test/1395.jpg => one\n",
      "predict ./test/1118.jpg => three\n",
      "predict ./test/306.jpg => two\n",
      "predict ./test/1282.jpg => three\n",
      "predict ./test/357.jpg => two\n"
     ]
    },
    {
     "name": "stderr",
     "output_type": "stream",
     "text": [
      "<ipython-input-14-0a1cb3505181>:26: MatplotlibDeprecationWarning: Passing non-integers as three-element position specification is deprecated since 3.3 and will be removed two minor releases later.\n",
      "  ax = fig.add_subplot(rows, columns, x+1)\n"
     ]
    },
    {
     "data": {
      "image/png": "[encoded data removed]",
      "text/plain": [
       "<Figure size 576x576 with 6 Axes>"
      ]
     },
     "metadata": {
      "needs_background": "light"
     },
     "output_type": "display_data"
    }
   ],
   "source": [
    "# fetch filepaths of the testing images\n",
    "testpath = os.path.join(dataset,\"test\")\n",
    "# make predictions\n",
    "result = {}\n",
    "net.eval()\n",
    "with torch.no_grad():\n",
    "    for imgpath in glob(os.path.join(testpath,\"*.jpg\")):\n",
    "        img = Image.open(imgpath).convert(\"L\")# load grayscale image\n",
    "        sample = mytransforms(img) # preprocess\n",
    "        #print(sample.shape)#torch.Size([1, 32, 32])\n",
    "        sample = torch.stack([sample])\n",
    "        #print(sample.shape)#torch.Size([1, 1, 32, 32])\n",
    "        sample = sample.to(device)\n",
    "        output = net(sample)\n",
    "        pred_idx = output.data.max(1, keepdim=True)[1]\n",
    "        pred_class = label_to_name[pred_idx.cpu().numpy()[0][0]]\n",
    "        result[imgpath] = pred_class\n",
    "        print(\"predict\",imgpath,\"=>\",pred_class)\n",
    "# Visualize your results\n",
    "size = 8\n",
    "fig = plt.figure(figsize=(size, size))\n",
    "columns = len(result)\n",
    "rows = np.ceil(len(result))\n",
    "for x, filepath in enumerate(result):\n",
    "    img = plt.imread(filepath)\n",
    "    ax = fig.add_subplot(rows, columns, x+1)\n",
    "    ax.set_title(\"pred:%s\"%(result[filepath]))\n",
    "    plt.imshow(img,cmap='gray')\n",
    "plt.show()"
   ]
  },
  {
   "cell_type": "markdown",
   "metadata": {},
   "source": [
    "# [Extra.] 1-D convolution\n",
    "1-D convolution is helpful for analying 1D Convolutional time series sensor data. To introduce how to use 1-D convolution in Pytorch, we will create code snippers to handle time series data like below: \n",
    "<img src=\"https://cezannec.github.io/assets/cnn_text/conv_maxpooling_steps.gif\" width=\"600\" align=\"center\">\n",
    "To learn more, please see <a href=\"https://cezannec.github.io/CNN_Text_Classification/\">here</a>"
   ]
  },
  {
   "cell_type": "code",
   "execution_count": 15,
   "metadata": {},
   "outputs": [
    {
     "name": "stdout",
     "output_type": "stream",
     "text": [
      "the shape of input data: torch.Size([1, 3, 6])\n",
      "the shape of feature vector: torch.Size([1, 1, 6])\n"
     ]
    }
   ],
   "source": [
    "batch_size = 1\n",
    "embedding_dimension = input_channel = 3\n",
    "sequence_length = 6\n",
    "# create input\n",
    "input_sample = torch.randn(batch_size, embedding_dimension, sequence_length)\n",
    "print(\"the shape of input data:\",input_sample.shape)\n",
    "# define 1-d convolution\n",
    "operation = nn.Conv1d(in_channels=embedding_dimension, out_channels=1, kernel_size=3, stride=1, padding=1)\n",
    "# check output\n",
    "output = operation(input_sample)\n",
    "print(\"the shape of feature vector:\",output.shape)"
   ]
  },
  {
   "cell_type": "markdown",
   "metadata": {},
   "source": [
    "# [Extra.] Spectrogram\n",
    "Spectrogram is a two-dimensional map (like a 2-D image) representing the signal strength over time. To generate the spectrograms from input signals, you can achieve the goal using following libraries:\n",
    "\n",
    "[1] <a href=\"https://pytorch.org/audio/stable/transforms.html#spectrogram\">torchaudio.transforms.Spectrogram</a>\n",
    "\n",
    "[2] <a href=\"https://docs.scipy.org/doc/scipy/reference/generated/scipy.signal.spectrogram.html\">scipy.signal.spectrogram</a>\n",
    "\n",
    "[3] <a href=\"https://librosa.org/doc/0.8.0/generated/librosa.stft.html\">librosa.stft</a>\n",
    "\n",
    "In this section, we create small code snippets to convert audio clip to spectrograms as below."
   ]
  },
  {
   "cell_type": "code",
   "execution_count": 16,
   "metadata": {},
   "outputs": [
    {
     "name": "stdout",
     "output_type": "stream",
     "text": [
      "load audio data\n",
      "signal length: (983342,) sampling_rate: 16000\n"
     ]
    }
   ],
   "source": [
    "import librosa\n",
    "sampling_rate = 16000\n",
    "print(\"load audio data\")\n",
    "signaldata, sampling_rate = librosa.load(librosa.util.example_audio_file(),sr=sampling_rate)\n",
    "print(\"signal length:\",signaldata.shape,\"sampling_rate:\",sampling_rate)"
   ]
  },
  {
   "cell_type": "code",
   "execution_count": 17,
   "metadata": {},
   "outputs": [
    {
     "name": "stdout",
     "output_type": "stream",
     "text": [
      "Scipy Version\n",
      "The shape of magnitude spectrogram: (129, 4389)\n",
      "The shape of phase spectrogram: (129, 4389)\n"
     ]
    }
   ],
   "source": [
    "print(\"Scipy Version\")\n",
    "from scipy import signal\n",
    "# create magnitude spectrogram\n",
    "f, t, Sxx = signal.spectrogram(signaldata,fs=sampling_rate,window=\"hann\",nperseg=256,noverlap=32,scaling=\"spectrum\",mode=\"magnitude\")\n",
    "print(\"The shape of magnitude spectrogram:\",Sxx.shape)\n",
    "# create phase spectrogram\n",
    "f, t, Sxx = signal.spectrogram(signaldata,fs=sampling_rate,window=\"hann\",nperseg=256,noverlap=32,scaling=\"spectrum\",mode=\"phase\")\n",
    "print(\"The shape of phase spectrogram:\",Sxx.shape)"
   ]
  },
  {
   "cell_type": "code",
   "execution_count": 18,
   "metadata": {},
   "outputs": [
    {
     "name": "stdout",
     "output_type": "stream",
     "text": [
      "Librosa Version\n",
      "The shape of magnitude spectrogram: (129, 4390)\n"
     ]
    }
   ],
   "source": [
    "print(\"Librosa Version\")\n",
    "# Calculate the spectrogram as the square of the complex magnitude of the STFT\n",
    "Sxx = np.abs(librosa.stft(signaldata, n_fft=256, hop_length=256-32, win_length=256, window='hann'))**2\n",
    "print(\"The shape of magnitude spectrogram:\",Sxx.shape)\n",
    "# To learn more, please see https://docs.nvidia.com/deeplearning/dali/user-guide/docs/examples/audio_processing/spectrogram.html"
   ]
  },
  {
   "cell_type": "markdown",
   "metadata": {},
   "source": [
    "# If you want to trian the model with spectrogram data, please customize your dataset and dataloader as previously mentioned. Hint: see \"<i>Data loading and preprocessing</i>\"\n",
    "\n",
    "~~~~\n",
    "Note. To avoid repeated spectrogram generation procedure, you can save the spectrogram (i.e. Sxx) as numpy array first and then reload it. E.g. \n",
    ">>> np.save(\"spectrogram.npy\",Sxx)\n",
    ">>> Sxx = np.load(\"spectrogram.npy\")\n",
    "~~~~"
   ]
  }
 ],
 "metadata": {
  "kernelspec": {
   "display_name": "Python 3",
   "language": "python",
   "name": "python3"
  },
  "language_info": {
   "codemirror_mode": {
    "name": "ipython",
    "version": 3
   },
   "file_extension": ".py",
   "mimetype": "text/x-python",
   "name": "python",
   "nbconvert_exporter": "python",
   "pygments_lexer": "ipython3",
   "version": "3.8.5"
  }
 },
 "nbformat": 4,
 "nbformat_minor": 2
}
